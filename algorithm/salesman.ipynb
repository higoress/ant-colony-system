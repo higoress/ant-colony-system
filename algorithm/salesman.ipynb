{
  "nbformat": 4,
  "nbformat_minor": 0,
  "metadata": {
    "colab": {
      "name": "salesman.ipynb",
      "provenance": [],
      "collapsed_sections": [],
      "include_colab_link": true
    },
    "kernelspec": {
      "name": "python3",
      "display_name": "Python 3"
    }
  },
  "cells": [
    {
      "cell_type": "markdown",
      "metadata": {
        "id": "view-in-github",
        "colab_type": "text"
      },
      "source": [
        "<a href=\"https://colab.research.google.com/github/higoress/ant-colony-system/blob/master/algorithm/salesman.ipynb\" target=\"_parent\"><img src=\"https://colab.research.google.com/assets/colab-badge.svg\" alt=\"Open In Colab\"/></a>"
      ]
    },
    {
      "cell_type": "markdown",
      "metadata": {
        "id": "tDZEFCgJa11Q",
        "colab_type": "text"
      },
      "source": [
        "# Trabalho de Inteligência Computacional: Algoritmo Colônia de Formigas\n",
        "\n",
        "##### Aplicado ao Problema do Caixeiro Viajante\n",
        "\n",
        "###### Grupo:\n",
        "Higor Emanuel Souza Silva\n",
        "\n",
        "Lucas Boaventura Pereira\n",
        "\n",
        "Viviane Lima"
      ]
    },
    {
      "cell_type": "code",
      "metadata": {
        "id": "s8qqO1Mionee",
        "colab_type": "code",
        "colab": {}
      },
      "source": [
        "import numpy as np\n",
        "import random"
      ],
      "execution_count": 0,
      "outputs": []
    },
    {
      "cell_type": "code",
      "metadata": {
        "id": "LsKy4MVUZyJl",
        "colab_type": "code",
        "colab": {}
      },
      "source": [
        "class City:\n",
        "    def __init__(self, x, y,identifier,name = None, ):\n",
        "        self.name = name\n",
        "        self.identifier = identifier\n",
        "        self.coords = np.array([x,y])\n",
        "\n",
        "    def distance(self, cidade):\n",
        "        return float('%.3f'%np.linalg.norm(self.coords - cidade.coords, ord=2))\n",
        "\n",
        "    def __repr__(self):\n",
        "      if self.name != None:\n",
        "          return self.name\n",
        "      else:  \n",
        "        return \"(\" + str(self.coords[0]) + \",\" + str(self.coords[1]) + \")\"\n",
        "\n",
        "\n",
        "class Ant:\n",
        "  def __init__(self,initial,cities):\n",
        "    ''' initial is the city where the ant will begin,\n",
        "    cities is an array of all cities in the graph'''\n",
        "    city = cities.copy()\n",
        "    self.initial = initial\n",
        "    self.route = list()\n",
        "    self.full_cities = cities\n",
        "    self.route.append(self.initial)\n",
        "    city.remove(initial)\n",
        "    self.available_cities = city\n",
        "\n",
        "\n",
        "  def next_city(self,city):\n",
        "    self.route.append(self.available_cities.pop(self.available_cities.index(city)))\n",
        "\n",
        "  def new_route(self):\n",
        "    self.route.clear()\n",
        "    self.route.append(self.initial)\n",
        "    self.available_cities = self.full_cities.copy()\n",
        "    self.available_cities.remove(self.initial)\n",
        "\n",
        "  def route_cost(self):\n",
        "    cost = 0\n",
        "    lenght_route = len(self.route)\n",
        "    for i in range(lenght_route):\n",
        "      cost += self.route[i].distance(self.route[(i+1)%lenght_route])\n",
        "    \n",
        "    return float('%.3f'%cost)\n",
        "\n",
        "\n",
        "  \n",
        "class Graph:\n",
        "  def __init__(self, cities,pheromone = 0.1):\n",
        "    self.matrix = []\n",
        "    for city in cities:\n",
        "      row = []\n",
        "      for city2 in cities:\n",
        "        if city != city2:\n",
        "          row.append([city.distance(city2),pheromone])\n",
        "        else:\n",
        "          row.append([0,0])\n",
        "      self.matrix.append(row)\n",
        "    \n",
        "\n",
        "    def __repr__(self):\n",
        "        data = ''\n",
        "        for i in range(len(self.matrix)):\n",
        "          data.append(str(matrix[i]) + '\\n')\n",
        "          return data\n",
        "\n",
        "\n",
        "def choose_route(ant,matrix, alpha=6, beta=10):\n",
        "  '''\n",
        "  params: ant -> object Ant\n",
        "  matrix: matrix -> Object graph.matrix\n",
        "  decision weights\n",
        "  alpha: number -> weight of pheromone\n",
        "  beta:  number -> weight of distance\n",
        "  '''\n",
        "  if len(ant.route) == len(ant.full_cities):\n",
        "    return 0\n",
        "  index = ant.route[-1].identifier\n",
        "  choices_pool = [(x.identifier,matrix[index][x.identifier]) for x in ant.available_cities]\n",
        "  probability_pool = [((1/x[1][0])**beta)*(x[1][1]**alpha) for x in choices_pool]\n",
        "  next_city = random.choices(choices_pool, weights=probability_pool)[0][0]\n",
        "  ant.next_city(ant.full_cities[next_city])\n",
        "  return 1\n",
        "\n",
        "def update_pheromone(ant, matrix):\n",
        "  pheromone = (1 / ant.route_cost())\n",
        "  identifier = ant.initial.identifier\n",
        "  for column in matrix[identifier]:\n",
        "    if column[0] != 0:\n",
        "      column[1] += pheromone\n",
        "\n",
        "\n",
        "def evaporation(matrix, rate=0.2):\n",
        "  rows = len(matrix)\n",
        "  for i in range(rows):\n",
        "    for j in range(rows):\n",
        "      matrix[i][j][1] = (1 - rate) * matrix[i][j][1]\n",
        "\n",
        "def ant_colony_system(ant_colony,graph, epochs=150, alpha=2, beta=5, evaporation_rate=0.2):\n",
        "  epoch = 0\n",
        "  while epoch < epochs:\n",
        "  \n",
        "    for ant in ant_colony:\n",
        "      ant.new_route()\n",
        "      for x in range(len(cities2) - 1):      \n",
        "        choose_route(ant,graph.matrix)\n",
        "    evaporation(graph.matrix, evaporation_rate)\n",
        "    for ant in ant_colony:\n",
        "      update_pheromone(ant, graph.matrix)    \n",
        "    epoch += 1\n",
        "\n",
        "    ant_colony.sort(key=lambda x: x.route_cost())"
      ],
      "execution_count": 0,
      "outputs": []
    },
    {
      "cell_type": "code",
      "metadata": {
        "id": "EzxiegulxMm3",
        "colab_type": "code",
        "colab": {}
      },
      "source": [
        "cities = [(44,126,'Patos'),(80,57, 'Ptc'),(132,96,'Udia'),(133,142, 'Uberaba'),(185,5, 'Araxa')]  \n",
        "cities2 = [City(cities[x][0],cities[x][1],x,cities[x][2]) for x in range(len(cities))]\n",
        "ant_colony = []\n",
        "graph = Graph(cities2)\n",
        "\n",
        "colony_size = 50\n",
        "epochs = 200\n",
        "alpha = 2\n",
        "beta = 5\n",
        "evaporation_rate = 0.2\n",
        "\n",
        "random.seed()\n",
        "\n",
        "for i in range(colony_size):\n",
        "  city = random.choice(cities2)\n",
        "  ant_colony.append(Ant(city,cities2))"
      ],
      "execution_count": 0,
      "outputs": []
    },
    {
      "cell_type": "code",
      "metadata": {
        "id": "USqQ2H9S2D3j",
        "colab_type": "code",
        "colab": {}
      },
      "source": [
        "\n",
        "ant_colony_system(ant_colony,graph,alpha, beta, evaporation_rate)\n",
        "\n",
        "print('Best Routes: ')\n",
        "for x in range(len(ant_colony)):\n",
        "  print(ant_colony[x].route, 'Cost:', ant_colony[x].route_cost())"
      ],
      "execution_count": 0,
      "outputs": []
    }
  ]
}